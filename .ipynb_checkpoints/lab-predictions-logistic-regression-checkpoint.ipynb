{
 "cells": [
  {
   "cell_type": "code",
   "execution_count": 256,
   "id": "ccbd9c73",
   "metadata": {},
   "outputs": [],
   "source": [
    "#  Q1: Create a query or queries to extract the information you think may be relevant for building the prediction model. It should include some film features and some rental features. Use the data from 2005.\n",
    "#  Q2: Create a query to get the list of films and a boolean indicating if it was rented last month (August 2005). This would be our target variable.\n",
    "#  Q3: Read the data into a Pandas dataframe.\n",
    "#  Q4: Analyze extracted features and transform them. You may need to encode some categorical variables, or scale numerical variables.\n",
    "#  Q5: Create a logistic regression model to predict this variable from the cleaned data.\n",
    "#  Q6: Evaluate the results."
   ]
  },
  {
   "cell_type": "code",
   "execution_count": 257,
   "id": "90034895",
   "metadata": {},
   "outputs": [
    {
     "name": "stdout",
     "output_type": "stream",
     "text": [
      "········\n"
     ]
    }
   ],
   "source": [
    "import pymysql\n",
    "from sqlalchemy import create_engine\n",
    "import pandas as pd\n",
    "import getpass  \n",
    "password = getpass.getpass()"
   ]
  },
  {
   "cell_type": "markdown",
   "id": "ac7b65f7",
   "metadata": {},
   "source": [
    "Q1: Create a query or queries to extract the information you think may be relevant for building the prediction model. It should include some film features and some rental features. Use the data from 2005."
   ]
  },
  {
   "cell_type": "code",
   "execution_count": 258,
   "id": "fd0c2d40",
   "metadata": {},
   "outputs": [
    {
     "data": {
      "text/html": [
       "<div>\n",
       "<style scoped>\n",
       "    .dataframe tbody tr th:only-of-type {\n",
       "        vertical-align: middle;\n",
       "    }\n",
       "\n",
       "    .dataframe tbody tr th {\n",
       "        vertical-align: top;\n",
       "    }\n",
       "\n",
       "    .dataframe thead th {\n",
       "        text-align: right;\n",
       "    }\n",
       "</style>\n",
       "<table border=\"1\" class=\"dataframe\">\n",
       "  <thead>\n",
       "    <tr style=\"text-align: right;\">\n",
       "      <th></th>\n",
       "      <th>title</th>\n",
       "      <th>length</th>\n",
       "      <th>rental_duration</th>\n",
       "      <th>amount</th>\n",
       "      <th>rating</th>\n",
       "      <th>store_id</th>\n",
       "      <th>rental_id</th>\n",
       "      <th>rental_date</th>\n",
       "    </tr>\n",
       "  </thead>\n",
       "  <tbody>\n",
       "    <tr>\n",
       "      <th>0</th>\n",
       "      <td>ACADEMY DINOSAUR</td>\n",
       "      <td>86</td>\n",
       "      <td>6</td>\n",
       "      <td>0.99</td>\n",
       "      <td>PG</td>\n",
       "      <td>1</td>\n",
       "      <td>4863</td>\n",
       "      <td>2005-07-08 19:03:15</td>\n",
       "    </tr>\n",
       "    <tr>\n",
       "      <th>1</th>\n",
       "      <td>ACADEMY DINOSAUR</td>\n",
       "      <td>86</td>\n",
       "      <td>6</td>\n",
       "      <td>3.99</td>\n",
       "      <td>PG</td>\n",
       "      <td>1</td>\n",
       "      <td>11433</td>\n",
       "      <td>2005-08-02 20:13:10</td>\n",
       "    </tr>\n",
       "    <tr>\n",
       "      <th>2</th>\n",
       "      <td>ACADEMY DINOSAUR</td>\n",
       "      <td>86</td>\n",
       "      <td>6</td>\n",
       "      <td>3.99</td>\n",
       "      <td>PG</td>\n",
       "      <td>1</td>\n",
       "      <td>14714</td>\n",
       "      <td>2005-08-21 21:27:43</td>\n",
       "    </tr>\n",
       "    <tr>\n",
       "      <th>3</th>\n",
       "      <td>ACADEMY DINOSAUR</td>\n",
       "      <td>86</td>\n",
       "      <td>6</td>\n",
       "      <td>1.99</td>\n",
       "      <td>PG</td>\n",
       "      <td>1</td>\n",
       "      <td>972</td>\n",
       "      <td>2005-05-30 20:21:07</td>\n",
       "    </tr>\n",
       "    <tr>\n",
       "      <th>4</th>\n",
       "      <td>ACADEMY DINOSAUR</td>\n",
       "      <td>86</td>\n",
       "      <td>6</td>\n",
       "      <td>0.99</td>\n",
       "      <td>PG</td>\n",
       "      <td>1</td>\n",
       "      <td>2117</td>\n",
       "      <td>2005-06-17 20:24:00</td>\n",
       "    </tr>\n",
       "  </tbody>\n",
       "</table>\n",
       "</div>"
      ],
      "text/plain": [
       "              title  length  rental_duration  amount rating  store_id  \\\n",
       "0  ACADEMY DINOSAUR      86                6    0.99     PG         1   \n",
       "1  ACADEMY DINOSAUR      86                6    3.99     PG         1   \n",
       "2  ACADEMY DINOSAUR      86                6    3.99     PG         1   \n",
       "3  ACADEMY DINOSAUR      86                6    1.99     PG         1   \n",
       "4  ACADEMY DINOSAUR      86                6    0.99     PG         1   \n",
       "\n",
       "   rental_id         rental_date  \n",
       "0       4863 2005-07-08 19:03:15  \n",
       "1      11433 2005-08-02 20:13:10  \n",
       "2      14714 2005-08-21 21:27:43  \n",
       "3        972 2005-05-30 20:21:07  \n",
       "4       2117 2005-06-17 20:24:00  "
      ]
     },
     "execution_count": 258,
     "metadata": {},
     "output_type": "execute_result"
    }
   ],
   "source": [
    "# get the data\n",
    "connection_string = 'mysql+pymysql://root:' + password + '@localhost/sakila'\n",
    "\n",
    "engine = create_engine(connection_string)\n",
    "\n",
    "query = '''SELECT title, length, rental_duration, amount, rating, store_id,rental_id, rental_date FROM film\n",
    "RIGHT JOIN inventory i USING (film_id)\n",
    "INNER JOIN rental USING (inventory_id)\n",
    "INNER JOIN payment using (rental_id)'''\n",
    "\n",
    "# WHERE left(r.rental_date,7)=\"2005-05\"\n",
    "\n",
    "sakila = pd.read_sql_query(query, engine)\n",
    "sakila.head()"
   ]
  },
  {
   "cell_type": "code",
   "execution_count": 259,
   "id": "982d15b3",
   "metadata": {},
   "outputs": [
    {
     "data": {
      "text/plain": [
       "(16044, 8)"
      ]
     },
     "execution_count": 259,
     "metadata": {},
     "output_type": "execute_result"
    }
   ],
   "source": [
    "sakila.shape"
   ]
  },
  {
   "cell_type": "markdown",
   "id": "ca913d4c",
   "metadata": {},
   "source": [
    "Q2: Create a query to get the list of films and a boolean indicating if it was rented last month (August 2005). This would be our target. "
   ]
  },
  {
   "cell_type": "code",
   "execution_count": 260,
   "id": "8192ce5b",
   "metadata": {},
   "outputs": [
    {
     "data": {
      "text/html": [
       "<div>\n",
       "<style scoped>\n",
       "    .dataframe tbody tr th:only-of-type {\n",
       "        vertical-align: middle;\n",
       "    }\n",
       "\n",
       "    .dataframe tbody tr th {\n",
       "        vertical-align: top;\n",
       "    }\n",
       "\n",
       "    .dataframe thead th {\n",
       "        text-align: right;\n",
       "    }\n",
       "</style>\n",
       "<table border=\"1\" class=\"dataframe\">\n",
       "  <thead>\n",
       "    <tr style=\"text-align: right;\">\n",
       "      <th></th>\n",
       "      <th>title</th>\n",
       "      <th>length</th>\n",
       "      <th>rental_duration</th>\n",
       "      <th>amount</th>\n",
       "      <th>rating</th>\n",
       "      <th>store_id</th>\n",
       "      <th>rental_id</th>\n",
       "      <th>rental_date</th>\n",
       "      <th>rental_status</th>\n",
       "    </tr>\n",
       "  </thead>\n",
       "  <tbody>\n",
       "    <tr>\n",
       "      <th>0</th>\n",
       "      <td>ACADEMY DINOSAUR</td>\n",
       "      <td>86</td>\n",
       "      <td>6</td>\n",
       "      <td>0.99</td>\n",
       "      <td>PG</td>\n",
       "      <td>1</td>\n",
       "      <td>4863</td>\n",
       "      <td>2005-07-08 19:03:15</td>\n",
       "      <td>No</td>\n",
       "    </tr>\n",
       "    <tr>\n",
       "      <th>1</th>\n",
       "      <td>ACADEMY DINOSAUR</td>\n",
       "      <td>86</td>\n",
       "      <td>6</td>\n",
       "      <td>3.99</td>\n",
       "      <td>PG</td>\n",
       "      <td>1</td>\n",
       "      <td>11433</td>\n",
       "      <td>2005-08-02 20:13:10</td>\n",
       "      <td>No</td>\n",
       "    </tr>\n",
       "    <tr>\n",
       "      <th>2</th>\n",
       "      <td>ACADEMY DINOSAUR</td>\n",
       "      <td>86</td>\n",
       "      <td>6</td>\n",
       "      <td>3.99</td>\n",
       "      <td>PG</td>\n",
       "      <td>1</td>\n",
       "      <td>14714</td>\n",
       "      <td>2005-08-21 21:27:43</td>\n",
       "      <td>No</td>\n",
       "    </tr>\n",
       "    <tr>\n",
       "      <th>3</th>\n",
       "      <td>ACADEMY DINOSAUR</td>\n",
       "      <td>86</td>\n",
       "      <td>6</td>\n",
       "      <td>1.99</td>\n",
       "      <td>PG</td>\n",
       "      <td>1</td>\n",
       "      <td>972</td>\n",
       "      <td>2005-05-30 20:21:07</td>\n",
       "      <td>yes</td>\n",
       "    </tr>\n",
       "    <tr>\n",
       "      <th>4</th>\n",
       "      <td>ACADEMY DINOSAUR</td>\n",
       "      <td>86</td>\n",
       "      <td>6</td>\n",
       "      <td>0.99</td>\n",
       "      <td>PG</td>\n",
       "      <td>1</td>\n",
       "      <td>2117</td>\n",
       "      <td>2005-06-17 20:24:00</td>\n",
       "      <td>No</td>\n",
       "    </tr>\n",
       "    <tr>\n",
       "      <th>...</th>\n",
       "      <td>...</td>\n",
       "      <td>...</td>\n",
       "      <td>...</td>\n",
       "      <td>...</td>\n",
       "      <td>...</td>\n",
       "      <td>...</td>\n",
       "      <td>...</td>\n",
       "      <td>...</td>\n",
       "      <td>...</td>\n",
       "    </tr>\n",
       "    <tr>\n",
       "      <th>16039</th>\n",
       "      <td>ZORRO ARK</td>\n",
       "      <td>50</td>\n",
       "      <td>3</td>\n",
       "      <td>4.99</td>\n",
       "      <td>NC-17</td>\n",
       "      <td>2</td>\n",
       "      <td>711</td>\n",
       "      <td>2005-05-29 03:49:03</td>\n",
       "      <td>yes</td>\n",
       "    </tr>\n",
       "    <tr>\n",
       "      <th>16040</th>\n",
       "      <td>ZORRO ARK</td>\n",
       "      <td>50</td>\n",
       "      <td>3</td>\n",
       "      <td>4.99</td>\n",
       "      <td>NC-17</td>\n",
       "      <td>2</td>\n",
       "      <td>1493</td>\n",
       "      <td>2005-06-15 21:50:32</td>\n",
       "      <td>No</td>\n",
       "    </tr>\n",
       "    <tr>\n",
       "      <th>16041</th>\n",
       "      <td>ZORRO ARK</td>\n",
       "      <td>50</td>\n",
       "      <td>3</td>\n",
       "      <td>9.99</td>\n",
       "      <td>NC-17</td>\n",
       "      <td>2</td>\n",
       "      <td>6712</td>\n",
       "      <td>2005-07-12 13:24:47</td>\n",
       "      <td>No</td>\n",
       "    </tr>\n",
       "    <tr>\n",
       "      <th>16042</th>\n",
       "      <td>ZORRO ARK</td>\n",
       "      <td>50</td>\n",
       "      <td>3</td>\n",
       "      <td>4.99</td>\n",
       "      <td>NC-17</td>\n",
       "      <td>2</td>\n",
       "      <td>9701</td>\n",
       "      <td>2005-07-31 07:32:21</td>\n",
       "      <td>No</td>\n",
       "    </tr>\n",
       "    <tr>\n",
       "      <th>16043</th>\n",
       "      <td>ZORRO ARK</td>\n",
       "      <td>50</td>\n",
       "      <td>3</td>\n",
       "      <td>7.99</td>\n",
       "      <td>NC-17</td>\n",
       "      <td>2</td>\n",
       "      <td>12894</td>\n",
       "      <td>2005-08-19 03:49:28</td>\n",
       "      <td>No</td>\n",
       "    </tr>\n",
       "  </tbody>\n",
       "</table>\n",
       "<p>16044 rows × 9 columns</p>\n",
       "</div>"
      ],
      "text/plain": [
       "                  title  length  rental_duration  amount rating  store_id  \\\n",
       "0      ACADEMY DINOSAUR      86                6    0.99     PG         1   \n",
       "1      ACADEMY DINOSAUR      86                6    3.99     PG         1   \n",
       "2      ACADEMY DINOSAUR      86                6    3.99     PG         1   \n",
       "3      ACADEMY DINOSAUR      86                6    1.99     PG         1   \n",
       "4      ACADEMY DINOSAUR      86                6    0.99     PG         1   \n",
       "...                 ...     ...              ...     ...    ...       ...   \n",
       "16039         ZORRO ARK      50                3    4.99  NC-17         2   \n",
       "16040         ZORRO ARK      50                3    4.99  NC-17         2   \n",
       "16041         ZORRO ARK      50                3    9.99  NC-17         2   \n",
       "16042         ZORRO ARK      50                3    4.99  NC-17         2   \n",
       "16043         ZORRO ARK      50                3    7.99  NC-17         2   \n",
       "\n",
       "       rental_id         rental_date rental_status  \n",
       "0           4863 2005-07-08 19:03:15            No  \n",
       "1          11433 2005-08-02 20:13:10            No  \n",
       "2          14714 2005-08-21 21:27:43            No  \n",
       "3            972 2005-05-30 20:21:07           yes  \n",
       "4           2117 2005-06-17 20:24:00            No  \n",
       "...          ...                 ...           ...  \n",
       "16039        711 2005-05-29 03:49:03           yes  \n",
       "16040       1493 2005-06-15 21:50:32            No  \n",
       "16041       6712 2005-07-12 13:24:47            No  \n",
       "16042       9701 2005-07-31 07:32:21            No  \n",
       "16043      12894 2005-08-19 03:49:28            No  \n",
       "\n",
       "[16044 rows x 9 columns]"
      ]
     },
     "execution_count": 260,
     "metadata": {},
     "output_type": "execute_result"
    }
   ],
   "source": [
    "def check_rental(text):\n",
    "        if '2005-05' in str(text):\n",
    "            return 'yes'\n",
    "        else:\n",
    "            return 'No'\n",
    "        \n",
    "sakila[\"rental_status\"] = sakila['rental_date'].apply(lambda x: check_rental(x))\n",
    "sakila"
   ]
  },
  {
   "cell_type": "markdown",
   "id": "8698fcd7",
   "metadata": {},
   "source": [
    "Q3: Read the data into a Pandas dataframe."
   ]
  },
  {
   "cell_type": "code",
   "execution_count": 261,
   "id": "9dfc21ba",
   "metadata": {},
   "outputs": [
    {
     "data": {
      "text/html": [
       "<div>\n",
       "<style scoped>\n",
       "    .dataframe tbody tr th:only-of-type {\n",
       "        vertical-align: middle;\n",
       "    }\n",
       "\n",
       "    .dataframe tbody tr th {\n",
       "        vertical-align: top;\n",
       "    }\n",
       "\n",
       "    .dataframe thead th {\n",
       "        text-align: right;\n",
       "    }\n",
       "</style>\n",
       "<table border=\"1\" class=\"dataframe\">\n",
       "  <thead>\n",
       "    <tr style=\"text-align: right;\">\n",
       "      <th></th>\n",
       "      <th>title</th>\n",
       "      <th>length</th>\n",
       "      <th>rental_duration</th>\n",
       "      <th>amount</th>\n",
       "      <th>rating</th>\n",
       "      <th>store_id</th>\n",
       "      <th>rental_id</th>\n",
       "      <th>rental_date</th>\n",
       "      <th>rental_status</th>\n",
       "    </tr>\n",
       "  </thead>\n",
       "  <tbody>\n",
       "    <tr>\n",
       "      <th>0</th>\n",
       "      <td>ACADEMY DINOSAUR</td>\n",
       "      <td>86</td>\n",
       "      <td>6</td>\n",
       "      <td>0.99</td>\n",
       "      <td>PG</td>\n",
       "      <td>1</td>\n",
       "      <td>4863</td>\n",
       "      <td>2005-07-08 19:03:15</td>\n",
       "      <td>No</td>\n",
       "    </tr>\n",
       "    <tr>\n",
       "      <th>1</th>\n",
       "      <td>ACADEMY DINOSAUR</td>\n",
       "      <td>86</td>\n",
       "      <td>6</td>\n",
       "      <td>3.99</td>\n",
       "      <td>PG</td>\n",
       "      <td>1</td>\n",
       "      <td>11433</td>\n",
       "      <td>2005-08-02 20:13:10</td>\n",
       "      <td>No</td>\n",
       "    </tr>\n",
       "    <tr>\n",
       "      <th>2</th>\n",
       "      <td>ACADEMY DINOSAUR</td>\n",
       "      <td>86</td>\n",
       "      <td>6</td>\n",
       "      <td>3.99</td>\n",
       "      <td>PG</td>\n",
       "      <td>1</td>\n",
       "      <td>14714</td>\n",
       "      <td>2005-08-21 21:27:43</td>\n",
       "      <td>No</td>\n",
       "    </tr>\n",
       "    <tr>\n",
       "      <th>3</th>\n",
       "      <td>ACADEMY DINOSAUR</td>\n",
       "      <td>86</td>\n",
       "      <td>6</td>\n",
       "      <td>1.99</td>\n",
       "      <td>PG</td>\n",
       "      <td>1</td>\n",
       "      <td>972</td>\n",
       "      <td>2005-05-30 20:21:07</td>\n",
       "      <td>yes</td>\n",
       "    </tr>\n",
       "    <tr>\n",
       "      <th>4</th>\n",
       "      <td>ACADEMY DINOSAUR</td>\n",
       "      <td>86</td>\n",
       "      <td>6</td>\n",
       "      <td>0.99</td>\n",
       "      <td>PG</td>\n",
       "      <td>1</td>\n",
       "      <td>2117</td>\n",
       "      <td>2005-06-17 20:24:00</td>\n",
       "      <td>No</td>\n",
       "    </tr>\n",
       "    <tr>\n",
       "      <th>...</th>\n",
       "      <td>...</td>\n",
       "      <td>...</td>\n",
       "      <td>...</td>\n",
       "      <td>...</td>\n",
       "      <td>...</td>\n",
       "      <td>...</td>\n",
       "      <td>...</td>\n",
       "      <td>...</td>\n",
       "      <td>...</td>\n",
       "    </tr>\n",
       "    <tr>\n",
       "      <th>16039</th>\n",
       "      <td>ZORRO ARK</td>\n",
       "      <td>50</td>\n",
       "      <td>3</td>\n",
       "      <td>4.99</td>\n",
       "      <td>NC-17</td>\n",
       "      <td>2</td>\n",
       "      <td>711</td>\n",
       "      <td>2005-05-29 03:49:03</td>\n",
       "      <td>yes</td>\n",
       "    </tr>\n",
       "    <tr>\n",
       "      <th>16040</th>\n",
       "      <td>ZORRO ARK</td>\n",
       "      <td>50</td>\n",
       "      <td>3</td>\n",
       "      <td>4.99</td>\n",
       "      <td>NC-17</td>\n",
       "      <td>2</td>\n",
       "      <td>1493</td>\n",
       "      <td>2005-06-15 21:50:32</td>\n",
       "      <td>No</td>\n",
       "    </tr>\n",
       "    <tr>\n",
       "      <th>16041</th>\n",
       "      <td>ZORRO ARK</td>\n",
       "      <td>50</td>\n",
       "      <td>3</td>\n",
       "      <td>9.99</td>\n",
       "      <td>NC-17</td>\n",
       "      <td>2</td>\n",
       "      <td>6712</td>\n",
       "      <td>2005-07-12 13:24:47</td>\n",
       "      <td>No</td>\n",
       "    </tr>\n",
       "    <tr>\n",
       "      <th>16042</th>\n",
       "      <td>ZORRO ARK</td>\n",
       "      <td>50</td>\n",
       "      <td>3</td>\n",
       "      <td>4.99</td>\n",
       "      <td>NC-17</td>\n",
       "      <td>2</td>\n",
       "      <td>9701</td>\n",
       "      <td>2005-07-31 07:32:21</td>\n",
       "      <td>No</td>\n",
       "    </tr>\n",
       "    <tr>\n",
       "      <th>16043</th>\n",
       "      <td>ZORRO ARK</td>\n",
       "      <td>50</td>\n",
       "      <td>3</td>\n",
       "      <td>7.99</td>\n",
       "      <td>NC-17</td>\n",
       "      <td>2</td>\n",
       "      <td>12894</td>\n",
       "      <td>2005-08-19 03:49:28</td>\n",
       "      <td>No</td>\n",
       "    </tr>\n",
       "  </tbody>\n",
       "</table>\n",
       "<p>16044 rows × 9 columns</p>\n",
       "</div>"
      ],
      "text/plain": [
       "                  title  length  rental_duration  amount rating  store_id  \\\n",
       "0      ACADEMY DINOSAUR      86                6    0.99     PG         1   \n",
       "1      ACADEMY DINOSAUR      86                6    3.99     PG         1   \n",
       "2      ACADEMY DINOSAUR      86                6    3.99     PG         1   \n",
       "3      ACADEMY DINOSAUR      86                6    1.99     PG         1   \n",
       "4      ACADEMY DINOSAUR      86                6    0.99     PG         1   \n",
       "...                 ...     ...              ...     ...    ...       ...   \n",
       "16039         ZORRO ARK      50                3    4.99  NC-17         2   \n",
       "16040         ZORRO ARK      50                3    4.99  NC-17         2   \n",
       "16041         ZORRO ARK      50                3    9.99  NC-17         2   \n",
       "16042         ZORRO ARK      50                3    4.99  NC-17         2   \n",
       "16043         ZORRO ARK      50                3    7.99  NC-17         2   \n",
       "\n",
       "       rental_id         rental_date rental_status  \n",
       "0           4863 2005-07-08 19:03:15            No  \n",
       "1          11433 2005-08-02 20:13:10            No  \n",
       "2          14714 2005-08-21 21:27:43            No  \n",
       "3            972 2005-05-30 20:21:07           yes  \n",
       "4           2117 2005-06-17 20:24:00            No  \n",
       "...          ...                 ...           ...  \n",
       "16039        711 2005-05-29 03:49:03           yes  \n",
       "16040       1493 2005-06-15 21:50:32            No  \n",
       "16041       6712 2005-07-12 13:24:47            No  \n",
       "16042       9701 2005-07-31 07:32:21            No  \n",
       "16043      12894 2005-08-19 03:49:28            No  \n",
       "\n",
       "[16044 rows x 9 columns]"
      ]
     },
     "execution_count": 261,
     "metadata": {},
     "output_type": "execute_result"
    }
   ],
   "source": [
    "sakila"
   ]
  },
  {
   "cell_type": "markdown",
   "id": "d8fcf03a",
   "metadata": {},
   "source": [
    "Q4: Analyze extracted features and transform them. You may need to encode some categorical variables, or scale numerical variables."
   ]
  },
  {
   "cell_type": "code",
   "execution_count": 262,
   "id": "21c6804d",
   "metadata": {},
   "outputs": [
    {
     "data": {
      "text/plain": [
       "title                      object\n",
       "length                      int64\n",
       "rental_duration             int64\n",
       "amount                    float64\n",
       "rating                     object\n",
       "store_id                    int64\n",
       "rental_id                   int64\n",
       "rental_date        datetime64[ns]\n",
       "rental_status              object\n",
       "dtype: object"
      ]
     },
     "execution_count": 262,
     "metadata": {},
     "output_type": "execute_result"
    }
   ],
   "source": [
    "sakila.dtypes\n",
    "# Features: there are 2 categorical column and one datetime. WE need to drop datetime as it is of no use now.\n",
    "# Target (rental_status): it is categorical"
   ]
  },
  {
   "cell_type": "code",
   "execution_count": 263,
   "id": "014f6ed5",
   "metadata": {},
   "outputs": [],
   "source": [
    "sakila = sakila.drop(['rental_id'],axis=1)"
   ]
  },
  {
   "cell_type": "code",
   "execution_count": 264,
   "id": "42ce85bb",
   "metadata": {},
   "outputs": [],
   "source": [
    "sakila = sakila.drop(['title'],axis=1)"
   ]
  },
  {
   "cell_type": "code",
   "execution_count": 265,
   "id": "e5fe354d",
   "metadata": {},
   "outputs": [
    {
     "data": {
      "text/plain": [
       "Index(['length', 'rental_duration', 'amount', 'rating', 'store_id',\n",
       "       'rental_date', 'rental_status'],\n",
       "      dtype='object')"
      ]
     },
     "execution_count": 265,
     "metadata": {},
     "output_type": "execute_result"
    }
   ],
   "source": [
    "sakila.columns"
   ]
  },
  {
   "cell_type": "code",
   "execution_count": 266,
   "id": "9542d76f",
   "metadata": {},
   "outputs": [
    {
     "data": {
      "text/plain": [
       "PG-13    3585\n",
       "NC-17    3293\n",
       "PG       3212\n",
       "R        3181\n",
       "G        2773\n",
       "Name: rating, dtype: int64"
      ]
     },
     "execution_count": 266,
     "metadata": {},
     "output_type": "execute_result"
    }
   ],
   "source": [
    "# sakila['film_id'].value_counts()\n",
    "#  sakila['title'].value_counts()\n",
    "#  sakila['rental_duration'].value_counts()\n",
    "sakila['rating'].value_counts()\n",
    "# sakila['inventory_id'].value_counts()\n",
    "# sakila['store_id'].value_counts()\n",
    "# sakila['rental_status'].value_counts()"
   ]
  },
  {
   "cell_type": "code",
   "execution_count": 267,
   "id": "ad8d759a",
   "metadata": {},
   "outputs": [
    {
     "data": {
      "text/plain": [
       "length             0\n",
       "rental_duration    0\n",
       "amount             0\n",
       "rating             0\n",
       "store_id           0\n",
       "rental_date        0\n",
       "rental_status      0\n",
       "dtype: int64"
      ]
     },
     "execution_count": 267,
     "metadata": {},
     "output_type": "execute_result"
    }
   ],
   "source": [
    "sakila.isna().sum()"
   ]
  },
  {
   "cell_type": "code",
   "execution_count": 268,
   "id": "03f170b2",
   "metadata": {},
   "outputs": [],
   "source": [
    "# look for multicolinearity \n",
    "# (but i have two features with categorical column, therefore, i would have to remove them first before doing multicolinearity)"
   ]
  },
  {
   "cell_type": "code",
   "execution_count": 269,
   "id": "12ca18bf",
   "metadata": {},
   "outputs": [],
   "source": [
    "import numpy as np\n",
    "X_num = sakila.select_dtypes(include = np.number)\n",
    "X_cat = sakila.select_dtypes(include = object)"
   ]
  },
  {
   "cell_type": "code",
   "execution_count": 270,
   "id": "b8791fd4",
   "metadata": {},
   "outputs": [],
   "source": [
    "import matplotlib.pyplot as plt\n",
    "import seaborn as sns"
   ]
  },
  {
   "cell_type": "code",
   "execution_count": 271,
   "id": "60ce507e",
   "metadata": {},
   "outputs": [
    {
     "data": {
      "image/png": "[encoded data removed]",
      "text/plain": [
       "<Figure size 720x576 with 2 Axes>"
      ]
     },
     "metadata": {
      "needs_background": "light"
     },
     "output_type": "display_data"
    }
   ],
   "source": [
    "corr_matrix=X_num.corr(method='pearson')  # default\n",
    "fig, ax = plt.subplots(figsize=(10, 8))\n",
    "ax = sns.heatmap(corr_matrix, annot=True)\n",
    "plt.show()"
   ]
  },
  {
   "cell_type": "code",
   "execution_count": 272,
   "id": "f293477c",
   "metadata": {},
   "outputs": [],
   "source": [
    "from sklearn.preprocessing import MinMaxScaler"
   ]
  },
  {
   "cell_type": "code",
   "execution_count": 273,
   "id": "e0af7168",
   "metadata": {},
   "outputs": [],
   "source": [
    "# Need to X-y-split AND train-test-split BEFORE I apply transformations, \n",
    "# then train transformation on training set only\n",
    "y = sakila['rental_status']\n",
    "X = sakila.drop('rental_status', axis=1)\n",
    "from sklearn.model_selection import train_test_split\n",
    "X_train, X_test, y_train, y_test = train_test_split(X, y, test_size=0.2, random_state=1337)"
   ]
  },
  {
   "cell_type": "code",
   "execution_count": 274,
   "id": "f36a6747",
   "metadata": {},
   "outputs": [
    {
     "data": {
      "text/plain": [
       "(12835, 4)"
      ]
     },
     "execution_count": 274,
     "metadata": {},
     "output_type": "execute_result"
    }
   ],
   "source": [
    "X_train_num = X_train.select_dtypes(include = np.number)\n",
    "\n",
    "# Scaling data\n",
    "transformer = MinMaxScaler().fit(X_train_num) # need to keep transformer\n",
    "X_train_normalized = transformer.transform(X_train_num)\n",
    "X_train_norm = pd.DataFrame(X_train_normalized)\n",
    "X_train_norm.shape"
   ]
  },
  {
   "cell_type": "markdown",
   "id": "07b4060e",
   "metadata": {},
   "source": [
    "Encode using GET DUMMIES: "
   ]
  },
  {
   "cell_type": "code",
   "execution_count": 275,
   "id": "c0ab297c",
   "metadata": {},
   "outputs": [],
   "source": [
    "from sklearn.preprocessing import OneHotEncoder"
   ]
  },
  {
   "cell_type": "code",
   "execution_count": 276,
   "id": "ef4a756e",
   "metadata": {},
   "outputs": [
    {
     "data": {
      "text/html": [
       "<div>\n",
       "<style scoped>\n",
       "    .dataframe tbody tr th:only-of-type {\n",
       "        vertical-align: middle;\n",
       "    }\n",
       "\n",
       "    .dataframe tbody tr th {\n",
       "        vertical-align: top;\n",
       "    }\n",
       "\n",
       "    .dataframe thead th {\n",
       "        text-align: right;\n",
       "    }\n",
       "</style>\n",
       "<table border=\"1\" class=\"dataframe\">\n",
       "  <thead>\n",
       "    <tr style=\"text-align: right;\">\n",
       "      <th></th>\n",
       "      <th>rating</th>\n",
       "    </tr>\n",
       "  </thead>\n",
       "  <tbody>\n",
       "    <tr>\n",
       "      <th>15993</th>\n",
       "      <td>NC-17</td>\n",
       "    </tr>\n",
       "    <tr>\n",
       "      <th>14538</th>\n",
       "      <td>PG-13</td>\n",
       "    </tr>\n",
       "    <tr>\n",
       "      <th>174</th>\n",
       "      <td>R</td>\n",
       "    </tr>\n",
       "    <tr>\n",
       "      <th>6083</th>\n",
       "      <td>PG</td>\n",
       "    </tr>\n",
       "    <tr>\n",
       "      <th>9178</th>\n",
       "      <td>G</td>\n",
       "    </tr>\n",
       "    <tr>\n",
       "      <th>...</th>\n",
       "      <td>...</td>\n",
       "    </tr>\n",
       "    <tr>\n",
       "      <th>3239</th>\n",
       "      <td>NC-17</td>\n",
       "    </tr>\n",
       "    <tr>\n",
       "      <th>9448</th>\n",
       "      <td>NC-17</td>\n",
       "    </tr>\n",
       "    <tr>\n",
       "      <th>860</th>\n",
       "      <td>NC-17</td>\n",
       "    </tr>\n",
       "    <tr>\n",
       "      <th>8381</th>\n",
       "      <td>G</td>\n",
       "    </tr>\n",
       "    <tr>\n",
       "      <th>3223</th>\n",
       "      <td>R</td>\n",
       "    </tr>\n",
       "  </tbody>\n",
       "</table>\n",
       "<p>12835 rows × 1 columns</p>\n",
       "</div>"
      ],
      "text/plain": [
       "      rating\n",
       "15993  NC-17\n",
       "14538  PG-13\n",
       "174        R\n",
       "6083      PG\n",
       "9178       G\n",
       "...      ...\n",
       "3239   NC-17\n",
       "9448   NC-17\n",
       "860    NC-17\n",
       "8381       G\n",
       "3223       R\n",
       "\n",
       "[12835 rows x 1 columns]"
      ]
     },
     "execution_count": 276,
     "metadata": {},
     "output_type": "execute_result"
    }
   ],
   "source": [
    "X_train_categorical"
   ]
  },
  {
   "cell_type": "code",
   "execution_count": 277,
   "id": "7faca43f",
   "metadata": {},
   "outputs": [
    {
     "name": "stderr",
     "output_type": "stream",
     "text": [
      "C:\\Users\\gau82\\AppData\\Local\\Temp\\ipykernel_14816\\3049214135.py:2: DeprecationWarning: `np.object` is a deprecated alias for the builtin `object`. To silence this warning, use `object` by itself. Doing this will not modify any behavior and is safe. \n",
      "Deprecated in NumPy 1.20; for more details and guidance: https://numpy.org/devdocs/release/1.20.0-notes.html#deprecations\n",
      "  X_train_categorical = X_train.select_dtypes(include = np.object)\n"
     ]
    },
    {
     "data": {
      "text/html": [
       "<div>\n",
       "<style scoped>\n",
       "    .dataframe tbody tr th:only-of-type {\n",
       "        vertical-align: middle;\n",
       "    }\n",
       "\n",
       "    .dataframe tbody tr th {\n",
       "        vertical-align: top;\n",
       "    }\n",
       "\n",
       "    .dataframe thead th {\n",
       "        text-align: right;\n",
       "    }\n",
       "</style>\n",
       "<table border=\"1\" class=\"dataframe\">\n",
       "  <thead>\n",
       "    <tr style=\"text-align: right;\">\n",
       "      <th></th>\n",
       "      <th>rating_NC-17</th>\n",
       "      <th>rating_PG</th>\n",
       "      <th>rating_PG-13</th>\n",
       "      <th>rating_R</th>\n",
       "    </tr>\n",
       "  </thead>\n",
       "  <tbody>\n",
       "    <tr>\n",
       "      <th>15993</th>\n",
       "      <td>1</td>\n",
       "      <td>0</td>\n",
       "      <td>0</td>\n",
       "      <td>0</td>\n",
       "    </tr>\n",
       "    <tr>\n",
       "      <th>14538</th>\n",
       "      <td>0</td>\n",
       "      <td>0</td>\n",
       "      <td>1</td>\n",
       "      <td>0</td>\n",
       "    </tr>\n",
       "    <tr>\n",
       "      <th>174</th>\n",
       "      <td>0</td>\n",
       "      <td>0</td>\n",
       "      <td>0</td>\n",
       "      <td>1</td>\n",
       "    </tr>\n",
       "    <tr>\n",
       "      <th>6083</th>\n",
       "      <td>0</td>\n",
       "      <td>1</td>\n",
       "      <td>0</td>\n",
       "      <td>0</td>\n",
       "    </tr>\n",
       "    <tr>\n",
       "      <th>9178</th>\n",
       "      <td>0</td>\n",
       "      <td>0</td>\n",
       "      <td>0</td>\n",
       "      <td>0</td>\n",
       "    </tr>\n",
       "  </tbody>\n",
       "</table>\n",
       "</div>"
      ],
      "text/plain": [
       "       rating_NC-17  rating_PG  rating_PG-13  rating_R\n",
       "15993             1          0             0         0\n",
       "14538             0          0             1         0\n",
       "174               0          0             0         1\n",
       "6083              0          1             0         0\n",
       "9178              0          0             0         0"
      ]
     },
     "execution_count": 277,
     "metadata": {},
     "output_type": "execute_result"
    }
   ],
   "source": [
    "#  Similar to one hot encode: \n",
    "X_train_categorical = X_train.select_dtypes(include = np.object)\n",
    "X_train_cat = pd.get_dummies(X_train_categorical, \n",
    "                             columns=['rating'],\n",
    "                             drop_first=True)\n",
    "X_train_cat.head()"
   ]
  },
  {
   "cell_type": "code",
   "execution_count": 278,
   "id": "ce6cad21",
   "metadata": {},
   "outputs": [],
   "source": [
    "X_train_transformed = np.concatenate([X_train_norm, X_train_cat], axis=1)"
   ]
  },
  {
   "cell_type": "code",
   "execution_count": 279,
   "id": "b9f56af2",
   "metadata": {},
   "outputs": [],
   "source": [
    "from sklearn.linear_model import LogisticRegression\n",
    "classification = LogisticRegression(random_state=0, solver='lbfgs',\n",
    "                  multi_class='multinomial').fit(X_train_transformed, y_train)"
   ]
  },
  {
   "cell_type": "code",
   "execution_count": 280,
   "id": "ab637933",
   "metadata": {},
   "outputs": [],
   "source": [
    "# for numericals\n",
    "X_test_num = X_test.select_dtypes(include = np.number)\n",
    "\n",
    "# Scaling data\n",
    "# we use the transformer that was trained on the training data\n",
    "X_test_normalized = transformer.transform(X_test_num)\n",
    "X_test_norm = pd.DataFrame(X_test_normalized)"
   ]
  },
  {
   "cell_type": "code",
   "execution_count": 281,
   "id": "a14de55e",
   "metadata": {},
   "outputs": [
    {
     "name": "stderr",
     "output_type": "stream",
     "text": [
      "C:\\Users\\gau82\\AppData\\Local\\Temp\\ipykernel_14816\\270267797.py:2: DeprecationWarning: `np.object` is a deprecated alias for the builtin `object`. To silence this warning, use `object` by itself. Doing this will not modify any behavior and is safe. \n",
      "Deprecated in NumPy 1.20; for more details and guidance: https://numpy.org/devdocs/release/1.20.0-notes.html#deprecations\n",
      "  X_test_categorical = X_test.select_dtypes(include = np.object)\n"
     ]
    }
   ],
   "source": [
    "# for categoricals\n",
    "X_test_categorical = X_test.select_dtypes(include = np.object)\n",
    "X_test_cat = pd.get_dummies(X_test_categorical, \n",
    "                            columns=['rating'],\n",
    "                            drop_first=True)"
   ]
  },
  {
   "cell_type": "code",
   "execution_count": 282,
   "id": "b25fbcf9",
   "metadata": {},
   "outputs": [],
   "source": [
    "X_test_transformed = np.concatenate([X_test_norm, X_test_cat], axis=1)"
   ]
  },
  {
   "cell_type": "code",
   "execution_count": 283,
   "id": "0628ec1c",
   "metadata": {},
   "outputs": [
    {
     "data": {
      "text/plain": [
       "0.9280149579308196"
      ]
     },
     "execution_count": 283,
     "metadata": {},
     "output_type": "execute_result"
    }
   ],
   "source": [
    "# Now we can make predictions on the test set:\n",
    "predictions = classification.predict(X_test_transformed)\n",
    "predictions\n",
    "classification.score(X_test_transformed, y_test)\n"
   ]
  },
  {
   "cell_type": "code",
   "execution_count": 284,
   "id": "5f1a4bf8",
   "metadata": {},
   "outputs": [
    {
     "data": {
      "text/plain": [
       "array([[2978,    0],\n",
       "       [ 231,    0]], dtype=int64)"
      ]
     },
     "execution_count": 284,
     "metadata": {},
     "output_type": "execute_result"
    }
   ],
   "source": [
    "from sklearn.metrics import confusion_matrix\n",
    "confusion_matrix(y_test, predictions)"
   ]
  },
  {
   "cell_type": "code",
   "execution_count": 285,
   "id": "93328d39",
   "metadata": {},
   "outputs": [],
   "source": [
    "# predicted | R | NR | C | D |\n",
    "# --------------------------\n",
    "# actual  R | 2978| 0|   |   |\n",
    "# --------------------------\n",
    "#         NR |231 | 0 | |   |\n",
    "# --------------------------\n",
    "#         C |   |   | + |   |\n",
    "# --------------------------\n",
    "#         D |   |   |   | + |"
   ]
  },
  {
   "cell_type": "code",
   "execution_count": null,
   "id": "3f0e98c5",
   "metadata": {},
   "outputs": [],
   "source": []
  },
  {
   "cell_type": "code",
   "execution_count": null,
   "id": "2004e871",
   "metadata": {},
   "outputs": [],
   "source": []
  },
  {
   "cell_type": "code",
   "execution_count": null,
   "id": "5ff5ceb2",
   "metadata": {},
   "outputs": [],
   "source": []
  },
  {
   "cell_type": "code",
   "execution_count": null,
   "id": "d09145de",
   "metadata": {},
   "outputs": [],
   "source": []
  },
  {
   "cell_type": "code",
   "execution_count": null,
   "id": "ada1e510",
   "metadata": {},
   "outputs": [],
   "source": []
  }
 ],
 "metadata": {
  "kernelspec": {
   "display_name": "Python 3 (ipykernel)",
   "language": "python",
   "name": "python3"
  },
  "language_info": {
   "codemirror_mode": {
    "name": "ipython",
    "version": 3
   },
   "file_extension": ".py",
   "mimetype": "text/x-python",
   "name": "python",
   "nbconvert_exporter": "python",
   "pygments_lexer": "ipython3",
   "version": "3.9.12"
  }
 },
 "nbformat": 4,
 "nbformat_minor": 5
}
